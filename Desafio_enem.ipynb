{
 "cells": [
  {
   "cell_type": "markdown",
   "id": "db8bad78-12d5-4c91-98ab-c357ec71143e",
   "metadata": {},
   "source": [
    "<strong>Estatística Frequências e Medidas\n",
    "Desafio Final</strong>\n",
    "\n",
    "Considerando a base de dados de enem_2023.json responda as questões\n",
    "abaixo (os dados são fictícios).\n",
    "\n",
    "Você é uma pesquisadora de um cursinho para estudantes que querem\n",
    "ingressar na universidade em 2025. Seu objetivo é retirar informações da\n",
    "base de dados do enem do ano anterior para alinhar melhor as estratégias do\n",
    "cursinho para cada estudante.\n",
    "\n",
    "O dado possui 6 colunas, 5 delas representam as disciplinas do ENEM e uma o\n",
    "gênero das pessoas que fizeram a prova. No dado existe a representação de\n",
    "1000 pessoas, sendo cada uma delas uma linha."
   ]
  },
  {
   "cell_type": "code",
   "execution_count": 1,
   "id": "56f26f1e-8c94-47c7-bc87-ae681f401234",
   "metadata": {},
   "outputs": [],
   "source": [
    "import pandas as pd\n",
    "import numpy as np \n",
    "import matplotlib.pyplot as plt\n",
    "import seaborn as sns\n",
    "import json"
   ]
  },
  {
   "cell_type": "code",
   "execution_count": 2,
   "id": "24b39c9e-57d7-453c-a96a-064573878226",
   "metadata": {},
   "outputs": [],
   "source": [
    "# Ignorar warnings\n",
    "import warnings\n",
    "warnings.filterwarnings(\"ignore\")"
   ]
  },
  {
   "cell_type": "code",
   "execution_count": 321,
   "id": "a6bf76be-3244-46e3-9b1a-d7eaf6dc87a5",
   "metadata": {},
   "outputs": [],
   "source": [
    "caminho_arquivo = r'C:\\Users\\znaya\\Desktop\\Bootcamp - Data Analytics\\Estatística - Medidas e Frequências\\Desafio 1\\enem_2023.json'\n",
    "df_enem = pd.read_json(caminho_arquivo)"
   ]
  },
  {
   "cell_type": "code",
   "execution_count": 306,
   "id": "22d06e19-381c-4644-a879-189e88b82b1a",
   "metadata": {},
   "outputs": [
    {
     "data": {
      "text/html": [
       "<div>\n",
       "<style scoped>\n",
       "    .dataframe tbody tr th:only-of-type {\n",
       "        vertical-align: middle;\n",
       "    }\n",
       "\n",
       "    .dataframe tbody tr th {\n",
       "        vertical-align: top;\n",
       "    }\n",
       "\n",
       "    .dataframe thead th {\n",
       "        text-align: right;\n",
       "    }\n",
       "</style>\n",
       "<table border=\"1\" class=\"dataframe\">\n",
       "  <thead>\n",
       "    <tr style=\"text-align: right;\">\n",
       "      <th></th>\n",
       "      <th>Linguagens</th>\n",
       "      <th>Ciências humanas</th>\n",
       "      <th>Ciências da natureza</th>\n",
       "      <th>Matemática</th>\n",
       "      <th>Redação</th>\n",
       "      <th>Sexo</th>\n",
       "    </tr>\n",
       "  </thead>\n",
       "  <tbody>\n",
       "    <tr>\n",
       "      <th>0</th>\n",
       "      <td>585.669300</td>\n",
       "      <td>686.512178</td>\n",
       "      <td>390.482473</td>\n",
       "      <td>452.281333</td>\n",
       "      <td>546.371706</td>\n",
       "      <td>Homem</td>\n",
       "    </tr>\n",
       "    <tr>\n",
       "      <th>1</th>\n",
       "      <td>359.384608</td>\n",
       "      <td>642.084134</td>\n",
       "      <td>NaN</td>\n",
       "      <td>412.205207</td>\n",
       "      <td>741.825256</td>\n",
       "      <td>Mulher</td>\n",
       "    </tr>\n",
       "    <tr>\n",
       "      <th>2</th>\n",
       "      <td>622.732384</td>\n",
       "      <td>495.510719</td>\n",
       "      <td>443.183580</td>\n",
       "      <td>669.683401</td>\n",
       "      <td>684.515750</td>\n",
       "      <td>Homem</td>\n",
       "    </tr>\n",
       "    <tr>\n",
       "      <th>3</th>\n",
       "      <td>350.164605</td>\n",
       "      <td>602.041588</td>\n",
       "      <td>413.979810</td>\n",
       "      <td>676.608952</td>\n",
       "      <td>671.237114</td>\n",
       "      <td>Homem</td>\n",
       "    </tr>\n",
       "    <tr>\n",
       "      <th>4</th>\n",
       "      <td>384.093657</td>\n",
       "      <td>489.249140</td>\n",
       "      <td>609.758123</td>\n",
       "      <td>520.426698</td>\n",
       "      <td>744.375048</td>\n",
       "      <td>Homem</td>\n",
       "    </tr>\n",
       "  </tbody>\n",
       "</table>\n",
       "</div>"
      ],
      "text/plain": [
       "   Linguagens  Ciências humanas  Ciências da natureza  Matemática     Redação  \\\n",
       "0  585.669300        686.512178            390.482473  452.281333  546.371706   \n",
       "1  359.384608        642.084134                   NaN  412.205207  741.825256   \n",
       "2  622.732384        495.510719            443.183580  669.683401  684.515750   \n",
       "3  350.164605        602.041588            413.979810  676.608952  671.237114   \n",
       "4  384.093657        489.249140            609.758123  520.426698  744.375048   \n",
       "\n",
       "     Sexo  \n",
       "0   Homem  \n",
       "1  Mulher  \n",
       "2   Homem  \n",
       "3   Homem  \n",
       "4   Homem  "
      ]
     },
     "execution_count": 306,
     "metadata": {},
     "output_type": "execute_result"
    }
   ],
   "source": [
    "df_enem.head(5)\n",
    "# Cada linha uma pessoa, suas notas de cada disciplina e gênero"
   ]
  },
  {
   "cell_type": "code",
   "execution_count": 67,
   "id": "3d3ed3e1-698b-466c-a832-a4396103e461",
   "metadata": {},
   "outputs": [
    {
     "name": "stdout",
     "output_type": "stream",
     "text": [
      "Linguagens: float64\n",
      "Ciências humanas: float64\n",
      "Ciências da natureza: float64\n",
      "Matemática: float64\n",
      "Redação: float64\n",
      "Sexo: object\n"
     ]
    }
   ],
   "source": [
    "for column in df_enem:\n",
    "     print(f\"{column}: {df_enem[column].dtype}\")"
   ]
  },
  {
   "cell_type": "markdown",
   "id": "00ebacca-9774-48ca-8262-82b9c406c874",
   "metadata": {},
   "source": [
    "### 1. Qual das disciplinas tem a maior amplitude de nota?\n"
   ]
  },
  {
   "cell_type": "code",
   "execution_count": 216,
   "id": "8760b706-9d91-48f2-aedb-0f4929c5605c",
   "metadata": {},
   "outputs": [],
   "source": [
    "# Percorrer cada uma das colunas e calcular sua amplitude\n",
    "\n",
    "def amp(dataframe):\n",
    "    \n",
    "    for column in dataframe.select_dtypes(include=np.number):\n",
    "        amplitude = (dataframe[column].max() - dataframe[column].min())\n",
    "        print(f\"{column} - {amplitude:.2f}\")\n",
    "    \n",
    "    "
   ]
  },
  {
   "cell_type": "code",
   "execution_count": 217,
   "id": "c6b74142-5699-4ffe-8edd-f2923b83a8ec",
   "metadata": {},
   "outputs": [
    {
     "name": "stdout",
     "output_type": "stream",
     "text": [
      "Linguagens - 517.46\n",
      "Ciências humanas - 474.02\n",
      "Ciências da natureza - 487.60\n",
      "Matemática - 488.08\n",
      "Redação - 729.16\n"
     ]
    }
   ],
   "source": [
    "amp(df_enem)"
   ]
  },
  {
   "cell_type": "markdown",
   "id": "8cf76afa-07f3-4d52-b204-9c582084f3d8",
   "metadata": {},
   "source": [
    "##### Redação possui maior amplitude"
   ]
  },
  {
   "cell_type": "markdown",
   "id": "29db149a-ff7e-4a8c-969f-e1bad5fabe59",
   "metadata": {},
   "source": [
    "### 2. Qual é a média e a mediana para cada uma das disciplinas? (Lembre-se de remover todos os valores nulos quando considerar a mediana)"
   ]
  },
  {
   "cell_type": "code",
   "execution_count": 307,
   "id": "c75b4312-3cd7-4927-bd64-a5eeafe11872",
   "metadata": {},
   "outputs": [],
   "source": [
    "def median_mean(dataframe):\n",
    "    for column in dataframe.select_dtypes(include=np.number):\n",
    "        media = dataframe[column].mean()\n",
    "        mediana = dataframe[column].median(skipna=True)\n",
    "        print(f\"{column} - Média: {media:.2f} | Mediana: {mediana:.2f}\")"
   ]
  },
  {
   "cell_type": "code",
   "execution_count": 308,
   "id": "52b1d06f-ffd4-4652-bc36-3b5175cac753",
   "metadata": {},
   "outputs": [
    {
     "name": "stdout",
     "output_type": "stream",
     "text": [
      "Linguagens - Média: 514.52 | Mediana: 515.05\n",
      "Ciências humanas - Média: 527.04 | Mediana: 524.52\n",
      "Ciências da natureza - Média: 499.32 | Mediana: 500.48\n",
      "Matemática - Média: 535.97 | Mediana: 533.25\n",
      "Redação - Média: 637.78 | Mediana: 635.27\n"
     ]
    }
   ],
   "source": [
    "median_mean(df_enem)"
   ]
  },
  {
   "cell_type": "markdown",
   "id": "07055093-46b4-4455-bf5e-0fecf433d26b",
   "metadata": {
    "tags": []
   },
   "source": [
    "### 3. Considerando o curso de Ciência da Computação da UFPE, onde o peso cada uma das disciplinas ponderado:\n",
    "* a. Redação - 2\n",
    "* b. Matemática e suas Tecnologias - 4\n",
    "* c. Linguagens, Códigos e suas Tecnologias - 2\n",
    "* d. Ciências Humanas e suas Tecnologias - 1\n",
    "* e. Ciências da Natureza e suas Tecnologias - 1\n",
    "\n",
    "Qual o desvio padrão e média das notas dos 500 estudantes mais bem\n",
    "colocados considerando esses pesos?\n"
   ]
  },
  {
   "cell_type": "code",
   "execution_count": 109,
   "id": "38c0382a-0dfd-4661-957e-64bd468187e1",
   "metadata": {},
   "outputs": [],
   "source": [
    "df_media_ufpe = df_enem\n",
    "df_media_ufpe = df_media_ufpe.dropna()"
   ]
  },
  {
   "cell_type": "code",
   "execution_count": 110,
   "id": "0f1547fa-1e24-47ba-97d6-77e115e946d8",
   "metadata": {},
   "outputs": [
    {
     "data": {
      "text/html": [
       "<div>\n",
       "<style scoped>\n",
       "    .dataframe tbody tr th:only-of-type {\n",
       "        vertical-align: middle;\n",
       "    }\n",
       "\n",
       "    .dataframe tbody tr th {\n",
       "        vertical-align: top;\n",
       "    }\n",
       "\n",
       "    .dataframe thead th {\n",
       "        text-align: right;\n",
       "    }\n",
       "</style>\n",
       "<table border=\"1\" class=\"dataframe\">\n",
       "  <thead>\n",
       "    <tr style=\"text-align: right;\">\n",
       "      <th></th>\n",
       "      <th>Linguagens</th>\n",
       "      <th>Ciências humanas</th>\n",
       "      <th>Ciências da natureza</th>\n",
       "      <th>Matemática</th>\n",
       "      <th>Redação</th>\n",
       "      <th>Sexo</th>\n",
       "      <th>Média Ponderada</th>\n",
       "    </tr>\n",
       "  </thead>\n",
       "  <tbody>\n",
       "    <tr>\n",
       "      <th>0</th>\n",
       "      <td>585.669300</td>\n",
       "      <td>686.512178</td>\n",
       "      <td>390.482473</td>\n",
       "      <td>452.281333</td>\n",
       "      <td>546.371706</td>\n",
       "      <td>Homem</td>\n",
       "      <td>515.020199</td>\n",
       "    </tr>\n",
       "    <tr>\n",
       "      <th>2</th>\n",
       "      <td>622.732384</td>\n",
       "      <td>495.510719</td>\n",
       "      <td>443.183580</td>\n",
       "      <td>669.683401</td>\n",
       "      <td>684.515750</td>\n",
       "      <td>Homem</td>\n",
       "      <td>623.192417</td>\n",
       "    </tr>\n",
       "    <tr>\n",
       "      <th>3</th>\n",
       "      <td>350.164605</td>\n",
       "      <td>602.041588</td>\n",
       "      <td>413.979810</td>\n",
       "      <td>676.608952</td>\n",
       "      <td>671.237114</td>\n",
       "      <td>Homem</td>\n",
       "      <td>576.526064</td>\n",
       "    </tr>\n",
       "  </tbody>\n",
       "</table>\n",
       "</div>"
      ],
      "text/plain": [
       "   Linguagens  Ciências humanas  Ciências da natureza  Matemática     Redação  \\\n",
       "0  585.669300        686.512178            390.482473  452.281333  546.371706   \n",
       "2  622.732384        495.510719            443.183580  669.683401  684.515750   \n",
       "3  350.164605        602.041588            413.979810  676.608952  671.237114   \n",
       "\n",
       "    Sexo  Média Ponderada  \n",
       "0  Homem       515.020199  \n",
       "2  Homem       623.192417  \n",
       "3  Homem       576.526064  "
      ]
     },
     "execution_count": 110,
     "metadata": {},
     "output_type": "execute_result"
    }
   ],
   "source": [
    "df_media_ufpe['Média Ponderada'] = (\n",
    "    df_media_ufpe['Redação'] * 2 +\n",
    "    df_media_ufpe['Matemática'] * 4 +\n",
    "    df_media_ufpe['Linguagens'] * 2 +\n",
    "    df_media_ufpe['Ciências humanas'] * 1 +\n",
    "    df_media_ufpe['Ciências da natureza'] * 1\n",
    ") / 10\n",
    "df_media_ufpe.head(3)\n"
   ]
  },
  {
   "cell_type": "code",
   "execution_count": 111,
   "id": "f26ba2eb-e3df-4ce5-affe-cf867fe378f4",
   "metadata": {},
   "outputs": [],
   "source": [
    "media_ufpe_500 = df_media_ufpe.sort_values(\"Média Ponderada\",ascending=False)\n",
    "media_ufpe_500 = media_ufpe_500.head(500)"
   ]
  },
  {
   "cell_type": "code",
   "execution_count": 118,
   "id": "dbbaf742-7ff4-42ff-8e7f-25925bdac7ee",
   "metadata": {},
   "outputs": [
    {
     "name": "stdout",
     "output_type": "stream",
     "text": [
      "Linguagens: 522.84\n",
      "Ciências humanas: 529.92\n",
      "Ciências da natureza: 503.09\n",
      "Matemática: 547.41\n",
      "Redação: 652.29\n",
      "Média Ponderada: 557.29\n"
     ]
    }
   ],
   "source": [
    "for column in media_ufpe_500.select_dtypes(include=np.number):\n",
    "    m = media_ufpe_500[column].meanA()\n",
    "    print(f\"{column}: {m:.2f}\")"
   ]
  },
  {
   "cell_type": "code",
   "execution_count": 119,
   "id": "593c5200-8230-43f6-8440-4ac43d73493f",
   "metadata": {},
   "outputs": [
    {
     "name": "stdout",
     "output_type": "stream",
     "text": [
      "Linguagens: 80.77\n",
      "Ciências humanas: 77.13\n",
      "Ciências da natureza: 78.61\n",
      "Matemática: 83.24\n",
      "Redação: 109.96\n",
      "Média Ponderada: 40.44\n"
     ]
    }
   ],
   "source": [
    "for column in media_ufpe_500.select_dtypes(include=np.number):\n",
    "    d = media_ufpe_500[column].std()\n",
    "    print(f\"{column}: {d:.2f}\")"
   ]
  },
  {
   "cell_type": "markdown",
   "id": "0c0781ca-0ec7-49ea-8936-ca8a9df680ad",
   "metadata": {},
   "source": [
    "### 4. Se todos esses estudantes aplicassem para ciência da computação e existem apenas 40 vagas, qual seria a variância e média da nota dos estudantes que entraram no curso de ciência da computação?"
   ]
  },
  {
   "cell_type": "code",
   "execution_count": 115,
   "id": "6babda9e-2ddd-48c9-91ca-b72a7665a0ef",
   "metadata": {},
   "outputs": [],
   "source": [
    "cc_aprovados = media_ufpe_500.head(40).sort_values(\"Média Ponderada\",ascending=False)"
   ]
  },
  {
   "cell_type": "code",
   "execution_count": 116,
   "id": "dd81d4bf-0bfe-42a3-8790-b5a6daef2521",
   "metadata": {
    "collapsed": true,
    "jupyter": {
     "outputs_hidden": true
    },
    "tags": []
   },
   "outputs": [
    {
     "data": {
      "text/html": [
       "<div>\n",
       "<style scoped>\n",
       "    .dataframe tbody tr th:only-of-type {\n",
       "        vertical-align: middle;\n",
       "    }\n",
       "\n",
       "    .dataframe tbody tr th {\n",
       "        vertical-align: top;\n",
       "    }\n",
       "\n",
       "    .dataframe thead th {\n",
       "        text-align: right;\n",
       "    }\n",
       "</style>\n",
       "<table border=\"1\" class=\"dataframe\">\n",
       "  <thead>\n",
       "    <tr style=\"text-align: right;\">\n",
       "      <th></th>\n",
       "      <th>Linguagens</th>\n",
       "      <th>Ciências humanas</th>\n",
       "      <th>Ciências da natureza</th>\n",
       "      <th>Matemática</th>\n",
       "      <th>Redação</th>\n",
       "      <th>Sexo</th>\n",
       "      <th>Média Ponderada</th>\n",
       "    </tr>\n",
       "  </thead>\n",
       "  <tbody>\n",
       "    <tr>\n",
       "      <th>25</th>\n",
       "      <td>604.825455</td>\n",
       "      <td>447.532353</td>\n",
       "      <td>523.041011</td>\n",
       "      <td>727.181224</td>\n",
       "      <td>870.464077</td>\n",
       "      <td>Mulher</td>\n",
       "      <td>682.987732</td>\n",
       "    </tr>\n",
       "    <tr>\n",
       "      <th>824</th>\n",
       "      <td>533.812379</td>\n",
       "      <td>611.760520</td>\n",
       "      <td>494.994598</td>\n",
       "      <td>807.877902</td>\n",
       "      <td>697.570213</td>\n",
       "      <td>Não idenficado</td>\n",
       "      <td>680.103191</td>\n",
       "    </tr>\n",
       "    <tr>\n",
       "      <th>702</th>\n",
       "      <td>551.398112</td>\n",
       "      <td>637.818208</td>\n",
       "      <td>451.624683</td>\n",
       "      <td>803.769938</td>\n",
       "      <td>652.669636</td>\n",
       "      <td>Homem</td>\n",
       "      <td>671.265814</td>\n",
       "    </tr>\n",
       "    <tr>\n",
       "      <th>129</th>\n",
       "      <td>583.015454</td>\n",
       "      <td>434.261543</td>\n",
       "      <td>588.516699</td>\n",
       "      <td>687.621711</td>\n",
       "      <td>852.273821</td>\n",
       "      <td>Mulher</td>\n",
       "      <td>664.384364</td>\n",
       "    </tr>\n",
       "    <tr>\n",
       "      <th>60</th>\n",
       "      <td>498.394660</td>\n",
       "      <td>668.355060</td>\n",
       "      <td>457.371963</td>\n",
       "      <td>760.136151</td>\n",
       "      <td>711.458481</td>\n",
       "      <td>Mulher</td>\n",
       "      <td>658.597791</td>\n",
       "    </tr>\n",
       "    <tr>\n",
       "      <th>880</th>\n",
       "      <td>671.524266</td>\n",
       "      <td>590.780179</td>\n",
       "      <td>546.595272</td>\n",
       "      <td>571.607337</td>\n",
       "      <td>909.379934</td>\n",
       "      <td>Homem</td>\n",
       "      <td>658.561320</td>\n",
       "    </tr>\n",
       "    <tr>\n",
       "      <th>376</th>\n",
       "      <td>364.096042</td>\n",
       "      <td>582.024626</td>\n",
       "      <td>523.764760</td>\n",
       "      <td>749.912621</td>\n",
       "      <td>872.188740</td>\n",
       "      <td>Não idenficado</td>\n",
       "      <td>657.800943</td>\n",
       "    </tr>\n",
       "    <tr>\n",
       "      <th>989</th>\n",
       "      <td>462.051713</td>\n",
       "      <td>512.986241</td>\n",
       "      <td>506.405210</td>\n",
       "      <td>787.771672</td>\n",
       "      <td>692.814673</td>\n",
       "      <td>Homem</td>\n",
       "      <td>648.021091</td>\n",
       "    </tr>\n",
       "    <tr>\n",
       "      <th>694</th>\n",
       "      <td>497.493880</td>\n",
       "      <td>609.839007</td>\n",
       "      <td>528.413513</td>\n",
       "      <td>737.175029</td>\n",
       "      <td>693.739043</td>\n",
       "      <td>Mulher</td>\n",
       "      <td>646.941848</td>\n",
       "    </tr>\n",
       "    <tr>\n",
       "      <th>965</th>\n",
       "      <td>660.913894</td>\n",
       "      <td>613.882660</td>\n",
       "      <td>433.935910</td>\n",
       "      <td>580.908082</td>\n",
       "      <td>881.465882</td>\n",
       "      <td>Mulher</td>\n",
       "      <td>645.621045</td>\n",
       "    </tr>\n",
       "    <tr>\n",
       "      <th>422</th>\n",
       "      <td>804.456317</td>\n",
       "      <td>505.521842</td>\n",
       "      <td>654.759618</td>\n",
       "      <td>534.368748</td>\n",
       "      <td>772.389790</td>\n",
       "      <td>Mulher</td>\n",
       "      <td>645.144866</td>\n",
       "    </tr>\n",
       "    <tr>\n",
       "      <th>27</th>\n",
       "      <td>655.944722</td>\n",
       "      <td>646.583291</td>\n",
       "      <td>356.306207</td>\n",
       "      <td>718.064152</td>\n",
       "      <td>627.368356</td>\n",
       "      <td>Mulher</td>\n",
       "      <td>644.177226</td>\n",
       "    </tr>\n",
       "    <tr>\n",
       "      <th>937</th>\n",
       "      <td>583.032108</td>\n",
       "      <td>438.573213</td>\n",
       "      <td>535.803131</td>\n",
       "      <td>688.264316</td>\n",
       "      <td>763.518119</td>\n",
       "      <td>Mulher</td>\n",
       "      <td>642.053406</td>\n",
       "    </tr>\n",
       "    <tr>\n",
       "      <th>162</th>\n",
       "      <td>624.288291</td>\n",
       "      <td>555.722737</td>\n",
       "      <td>683.228347</td>\n",
       "      <td>591.233755</td>\n",
       "      <td>769.757995</td>\n",
       "      <td>Homem</td>\n",
       "      <td>639.197868</td>\n",
       "    </tr>\n",
       "    <tr>\n",
       "      <th>906</th>\n",
       "      <td>669.585588</td>\n",
       "      <td>544.806521</td>\n",
       "      <td>594.002845</td>\n",
       "      <td>613.928050</td>\n",
       "      <td>714.891896</td>\n",
       "      <td>Homem</td>\n",
       "      <td>636.347653</td>\n",
       "    </tr>\n",
       "    <tr>\n",
       "      <th>948</th>\n",
       "      <td>681.993514</td>\n",
       "      <td>607.264955</td>\n",
       "      <td>629.802349</td>\n",
       "      <td>542.751190</td>\n",
       "      <td>794.691795</td>\n",
       "      <td>Não idenficado</td>\n",
       "      <td>636.144268</td>\n",
       "    </tr>\n",
       "    <tr>\n",
       "      <th>719</th>\n",
       "      <td>518.513118</td>\n",
       "      <td>502.422969</td>\n",
       "      <td>529.846508</td>\n",
       "      <td>646.595929</td>\n",
       "      <td>852.181492</td>\n",
       "      <td>Mulher</td>\n",
       "      <td>636.004241</td>\n",
       "    </tr>\n",
       "    <tr>\n",
       "      <th>479</th>\n",
       "      <td>499.611572</td>\n",
       "      <td>442.862159</td>\n",
       "      <td>548.750274</td>\n",
       "      <td>725.378997</td>\n",
       "      <td>723.294181</td>\n",
       "      <td>Mulher</td>\n",
       "      <td>633.893993</td>\n",
       "    </tr>\n",
       "    <tr>\n",
       "      <th>889</th>\n",
       "      <td>600.029214</td>\n",
       "      <td>641.687541</td>\n",
       "      <td>502.881064</td>\n",
       "      <td>540.269675</td>\n",
       "      <td>916.023211</td>\n",
       "      <td>Mulher</td>\n",
       "      <td>633.775216</td>\n",
       "    </tr>\n",
       "    <tr>\n",
       "      <th>260</th>\n",
       "      <td>691.810072</td>\n",
       "      <td>591.297424</td>\n",
       "      <td>608.756120</td>\n",
       "      <td>662.098003</td>\n",
       "      <td>541.846701</td>\n",
       "      <td>Homem</td>\n",
       "      <td>631.575910</td>\n",
       "    </tr>\n",
       "    <tr>\n",
       "      <th>448</th>\n",
       "      <td>648.914810</td>\n",
       "      <td>763.919695</td>\n",
       "      <td>381.944225</td>\n",
       "      <td>636.391057</td>\n",
       "      <td>660.438586</td>\n",
       "      <td>Homem</td>\n",
       "      <td>631.013494</td>\n",
       "    </tr>\n",
       "    <tr>\n",
       "      <th>845</th>\n",
       "      <td>546.407907</td>\n",
       "      <td>605.872603</td>\n",
       "      <td>544.893605</td>\n",
       "      <td>623.772896</td>\n",
       "      <td>781.179163</td>\n",
       "      <td>Mulher</td>\n",
       "      <td>630.103193</td>\n",
       "    </tr>\n",
       "    <tr>\n",
       "      <th>944</th>\n",
       "      <td>692.452396</td>\n",
       "      <td>536.593205</td>\n",
       "      <td>628.656897</td>\n",
       "      <td>526.336362</td>\n",
       "      <td>821.040693</td>\n",
       "      <td>Mulher</td>\n",
       "      <td>629.758173</td>\n",
       "    </tr>\n",
       "    <tr>\n",
       "      <th>577</th>\n",
       "      <td>533.656386</td>\n",
       "      <td>594.503240</td>\n",
       "      <td>552.712332</td>\n",
       "      <td>609.921712</td>\n",
       "      <td>810.421042</td>\n",
       "      <td>Homem</td>\n",
       "      <td>627.505728</td>\n",
       "    </tr>\n",
       "    <tr>\n",
       "      <th>55</th>\n",
       "      <td>631.990306</td>\n",
       "      <td>425.348443</td>\n",
       "      <td>461.624184</td>\n",
       "      <td>647.369957</td>\n",
       "      <td>761.041714</td>\n",
       "      <td>Homem</td>\n",
       "      <td>626.251650</td>\n",
       "    </tr>\n",
       "    <tr>\n",
       "      <th>675</th>\n",
       "      <td>579.453474</td>\n",
       "      <td>501.271960</td>\n",
       "      <td>504.364985</td>\n",
       "      <td>718.264756</td>\n",
       "      <td>610.847063</td>\n",
       "      <td>Homem</td>\n",
       "      <td>625.929705</td>\n",
       "    </tr>\n",
       "    <tr>\n",
       "      <th>47</th>\n",
       "      <td>627.589452</td>\n",
       "      <td>641.521997</td>\n",
       "      <td>529.672562</td>\n",
       "      <td>659.953536</td>\n",
       "      <td>593.601464</td>\n",
       "      <td>Mulher</td>\n",
       "      <td>625.339054</td>\n",
       "    </tr>\n",
       "    <tr>\n",
       "      <th>306</th>\n",
       "      <td>462.599432</td>\n",
       "      <td>594.906024</td>\n",
       "      <td>429.423613</td>\n",
       "      <td>661.843701</td>\n",
       "      <td>827.988865</td>\n",
       "      <td>Mulher</td>\n",
       "      <td>625.288103</td>\n",
       "    </tr>\n",
       "    <tr>\n",
       "      <th>581</th>\n",
       "      <td>587.678743</td>\n",
       "      <td>425.720371</td>\n",
       "      <td>571.066673</td>\n",
       "      <td>742.183123</td>\n",
       "      <td>546.721298</td>\n",
       "      <td>Mulher</td>\n",
       "      <td>623.431962</td>\n",
       "    </tr>\n",
       "    <tr>\n",
       "      <th>2</th>\n",
       "      <td>622.732384</td>\n",
       "      <td>495.510719</td>\n",
       "      <td>443.183580</td>\n",
       "      <td>669.683401</td>\n",
       "      <td>684.515750</td>\n",
       "      <td>Homem</td>\n",
       "      <td>623.192417</td>\n",
       "    </tr>\n",
       "    <tr>\n",
       "      <th>453</th>\n",
       "      <td>677.079246</td>\n",
       "      <td>449.216491</td>\n",
       "      <td>473.817741</td>\n",
       "      <td>598.659253</td>\n",
       "      <td>778.929912</td>\n",
       "      <td>Homem</td>\n",
       "      <td>622.968956</td>\n",
       "    </tr>\n",
       "    <tr>\n",
       "      <th>239</th>\n",
       "      <td>592.693830</td>\n",
       "      <td>548.549224</td>\n",
       "      <td>522.330249</td>\n",
       "      <td>634.250270</td>\n",
       "      <td>712.473300</td>\n",
       "      <td>Mulher</td>\n",
       "      <td>621.821481</td>\n",
       "    </tr>\n",
       "    <tr>\n",
       "      <th>717</th>\n",
       "      <td>717.932659</td>\n",
       "      <td>632.281914</td>\n",
       "      <td>501.671939</td>\n",
       "      <td>541.359799</td>\n",
       "      <td>738.352658</td>\n",
       "      <td>Homem</td>\n",
       "      <td>621.196368</td>\n",
       "    </tr>\n",
       "    <tr>\n",
       "      <th>656</th>\n",
       "      <td>675.983694</td>\n",
       "      <td>494.965750</td>\n",
       "      <td>510.882756</td>\n",
       "      <td>618.064342</td>\n",
       "      <td>690.144190</td>\n",
       "      <td>Mulher</td>\n",
       "      <td>621.036164</td>\n",
       "    </tr>\n",
       "    <tr>\n",
       "      <th>505</th>\n",
       "      <td>489.781200</td>\n",
       "      <td>569.544149</td>\n",
       "      <td>541.320455</td>\n",
       "      <td>643.953493</td>\n",
       "      <td>770.161562</td>\n",
       "      <td>Mulher</td>\n",
       "      <td>620.656410</td>\n",
       "    </tr>\n",
       "    <tr>\n",
       "      <th>74</th>\n",
       "      <td>510.077956</td>\n",
       "      <td>640.031171</td>\n",
       "      <td>487.748959</td>\n",
       "      <td>574.770344</td>\n",
       "      <td>878.158739</td>\n",
       "      <td>Não idenficado</td>\n",
       "      <td>620.333490</td>\n",
       "    </tr>\n",
       "    <tr>\n",
       "      <th>45</th>\n",
       "      <td>691.439400</td>\n",
       "      <td>495.652830</td>\n",
       "      <td>631.337910</td>\n",
       "      <td>522.690584</td>\n",
       "      <td>800.568075</td>\n",
       "      <td>Não idenficado</td>\n",
       "      <td>620.176803</td>\n",
       "    </tr>\n",
       "    <tr>\n",
       "      <th>476</th>\n",
       "      <td>402.462297</td>\n",
       "      <td>549.138401</td>\n",
       "      <td>529.270997</td>\n",
       "      <td>750.205360</td>\n",
       "      <td>658.313174</td>\n",
       "      <td>Homem</td>\n",
       "      <td>620.078178</td>\n",
       "    </tr>\n",
       "    <tr>\n",
       "      <th>746</th>\n",
       "      <td>691.296262</td>\n",
       "      <td>568.468910</td>\n",
       "      <td>412.056331</td>\n",
       "      <td>690.403565</td>\n",
       "      <td>534.713160</td>\n",
       "      <td>Mulher</td>\n",
       "      <td>619.415834</td>\n",
       "    </tr>\n",
       "    <tr>\n",
       "      <th>801</th>\n",
       "      <td>312.052011</td>\n",
       "      <td>454.099214</td>\n",
       "      <td>535.148272</td>\n",
       "      <td>679.041262</td>\n",
       "      <td>931.305275</td>\n",
       "      <td>Homem</td>\n",
       "      <td>619.212710</td>\n",
       "    </tr>\n",
       "  </tbody>\n",
       "</table>\n",
       "</div>"
      ],
      "text/plain": [
       "     Linguagens  Ciências humanas  Ciências da natureza  Matemática  \\\n",
       "25   604.825455        447.532353            523.041011  727.181224   \n",
       "824  533.812379        611.760520            494.994598  807.877902   \n",
       "702  551.398112        637.818208            451.624683  803.769938   \n",
       "129  583.015454        434.261543            588.516699  687.621711   \n",
       "60   498.394660        668.355060            457.371963  760.136151   \n",
       "880  671.524266        590.780179            546.595272  571.607337   \n",
       "376  364.096042        582.024626            523.764760  749.912621   \n",
       "989  462.051713        512.986241            506.405210  787.771672   \n",
       "694  497.493880        609.839007            528.413513  737.175029   \n",
       "965  660.913894        613.882660            433.935910  580.908082   \n",
       "422  804.456317        505.521842            654.759618  534.368748   \n",
       "27   655.944722        646.583291            356.306207  718.064152   \n",
       "937  583.032108        438.573213            535.803131  688.264316   \n",
       "162  624.288291        555.722737            683.228347  591.233755   \n",
       "906  669.585588        544.806521            594.002845  613.928050   \n",
       "948  681.993514        607.264955            629.802349  542.751190   \n",
       "719  518.513118        502.422969            529.846508  646.595929   \n",
       "479  499.611572        442.862159            548.750274  725.378997   \n",
       "889  600.029214        641.687541            502.881064  540.269675   \n",
       "260  691.810072        591.297424            608.756120  662.098003   \n",
       "448  648.914810        763.919695            381.944225  636.391057   \n",
       "845  546.407907        605.872603            544.893605  623.772896   \n",
       "944  692.452396        536.593205            628.656897  526.336362   \n",
       "577  533.656386        594.503240            552.712332  609.921712   \n",
       "55   631.990306        425.348443            461.624184  647.369957   \n",
       "675  579.453474        501.271960            504.364985  718.264756   \n",
       "47   627.589452        641.521997            529.672562  659.953536   \n",
       "306  462.599432        594.906024            429.423613  661.843701   \n",
       "581  587.678743        425.720371            571.066673  742.183123   \n",
       "2    622.732384        495.510719            443.183580  669.683401   \n",
       "453  677.079246        449.216491            473.817741  598.659253   \n",
       "239  592.693830        548.549224            522.330249  634.250270   \n",
       "717  717.932659        632.281914            501.671939  541.359799   \n",
       "656  675.983694        494.965750            510.882756  618.064342   \n",
       "505  489.781200        569.544149            541.320455  643.953493   \n",
       "74   510.077956        640.031171            487.748959  574.770344   \n",
       "45   691.439400        495.652830            631.337910  522.690584   \n",
       "476  402.462297        549.138401            529.270997  750.205360   \n",
       "746  691.296262        568.468910            412.056331  690.403565   \n",
       "801  312.052011        454.099214            535.148272  679.041262   \n",
       "\n",
       "        Redação            Sexo  Média Ponderada  \n",
       "25   870.464077          Mulher       682.987732  \n",
       "824  697.570213  Não idenficado       680.103191  \n",
       "702  652.669636           Homem       671.265814  \n",
       "129  852.273821          Mulher       664.384364  \n",
       "60   711.458481          Mulher       658.597791  \n",
       "880  909.379934           Homem       658.561320  \n",
       "376  872.188740  Não idenficado       657.800943  \n",
       "989  692.814673           Homem       648.021091  \n",
       "694  693.739043          Mulher       646.941848  \n",
       "965  881.465882          Mulher       645.621045  \n",
       "422  772.389790          Mulher       645.144866  \n",
       "27   627.368356          Mulher       644.177226  \n",
       "937  763.518119          Mulher       642.053406  \n",
       "162  769.757995           Homem       639.197868  \n",
       "906  714.891896           Homem       636.347653  \n",
       "948  794.691795  Não idenficado       636.144268  \n",
       "719  852.181492          Mulher       636.004241  \n",
       "479  723.294181          Mulher       633.893993  \n",
       "889  916.023211          Mulher       633.775216  \n",
       "260  541.846701           Homem       631.575910  \n",
       "448  660.438586           Homem       631.013494  \n",
       "845  781.179163          Mulher       630.103193  \n",
       "944  821.040693          Mulher       629.758173  \n",
       "577  810.421042           Homem       627.505728  \n",
       "55   761.041714           Homem       626.251650  \n",
       "675  610.847063           Homem       625.929705  \n",
       "47   593.601464          Mulher       625.339054  \n",
       "306  827.988865          Mulher       625.288103  \n",
       "581  546.721298          Mulher       623.431962  \n",
       "2    684.515750           Homem       623.192417  \n",
       "453  778.929912           Homem       622.968956  \n",
       "239  712.473300          Mulher       621.821481  \n",
       "717  738.352658           Homem       621.196368  \n",
       "656  690.144190          Mulher       621.036164  \n",
       "505  770.161562          Mulher       620.656410  \n",
       "74   878.158739  Não idenficado       620.333490  \n",
       "45   800.568075  Não idenficado       620.176803  \n",
       "476  658.313174           Homem       620.078178  \n",
       "746  534.713160          Mulher       619.415834  \n",
       "801  931.305275           Homem       619.212710  "
      ]
     },
     "execution_count": 116,
     "metadata": {},
     "output_type": "execute_result"
    }
   ],
   "source": [
    "cc_aprovados"
   ]
  },
  {
   "cell_type": "code",
   "execution_count": 117,
   "id": "28e68ba1-8664-4b5a-b02f-41766d39a5c0",
   "metadata": {},
   "outputs": [],
   "source": [
    "cc_aprovados = cc_aprovados.describe().drop([\"count\",\"min\",\"25%\",\"50%\",\"75%\",\"max\"],axis=0)\n",
    "cc_aprovados.loc[\"variancia\"] = cc_aprovados.loc[\"std\"] ** 2"
   ]
  },
  {
   "cell_type": "code",
   "execution_count": 118,
   "id": "2e5494eb-04fb-4f55-b40f-393e49073d6b",
   "metadata": {},
   "outputs": [
    {
     "data": {
      "text/html": [
       "<div>\n",
       "<style scoped>\n",
       "    .dataframe tbody tr th:only-of-type {\n",
       "        vertical-align: middle;\n",
       "    }\n",
       "\n",
       "    .dataframe tbody tr th {\n",
       "        vertical-align: top;\n",
       "    }\n",
       "\n",
       "    .dataframe thead th {\n",
       "        text-align: right;\n",
       "    }\n",
       "</style>\n",
       "<table border=\"1\" class=\"dataframe\">\n",
       "  <thead>\n",
       "    <tr style=\"text-align: right;\">\n",
       "      <th></th>\n",
       "      <th>Linguagens</th>\n",
       "      <th>Ciências humanas</th>\n",
       "      <th>Ciências da natureza</th>\n",
       "      <th>Matemática</th>\n",
       "      <th>Redação</th>\n",
       "      <th>Média Ponderada</th>\n",
       "    </tr>\n",
       "  </thead>\n",
       "  <tbody>\n",
       "    <tr>\n",
       "      <th>mean</th>\n",
       "      <td>586.276605</td>\n",
       "      <td>554.327484</td>\n",
       "      <td>522.298209</td>\n",
       "      <td>655.650831</td>\n",
       "      <td>747.522593</td>\n",
       "      <td>636.682742</td>\n",
       "    </tr>\n",
       "    <tr>\n",
       "      <th>std</th>\n",
       "      <td>102.643398</td>\n",
       "      <td>80.066997</td>\n",
       "      <td>71.969522</td>\n",
       "      <td>79.995782</td>\n",
       "      <td>105.025131</td>\n",
       "      <td>17.197892</td>\n",
       "    </tr>\n",
       "    <tr>\n",
       "      <th>variancia</th>\n",
       "      <td>10535.667205</td>\n",
       "      <td>6410.724088</td>\n",
       "      <td>5179.612094</td>\n",
       "      <td>6399.325107</td>\n",
       "      <td>11030.278108</td>\n",
       "      <td>295.767504</td>\n",
       "    </tr>\n",
       "  </tbody>\n",
       "</table>\n",
       "</div>"
      ],
      "text/plain": [
       "             Linguagens  Ciências humanas  Ciências da natureza   Matemática  \\\n",
       "mean         586.276605        554.327484            522.298209   655.650831   \n",
       "std          102.643398         80.066997             71.969522    79.995782   \n",
       "variancia  10535.667205       6410.724088           5179.612094  6399.325107   \n",
       "\n",
       "                Redação  Média Ponderada  \n",
       "mean         747.522593       636.682742  \n",
       "std          105.025131        17.197892  \n",
       "variancia  11030.278108       295.767504  "
      ]
     },
     "execution_count": 118,
     "metadata": {},
     "output_type": "execute_result"
    }
   ],
   "source": [
    "cc_aprovados"
   ]
  },
  {
   "cell_type": "markdown",
   "id": "cf44c62d-53ce-4f29-9e54-be335c75bc25",
   "metadata": {},
   "source": [
    "### 5. Qual o valor do teto do terceiro quartil para as disciplinas de matemática e linguagens?"
   ]
  },
  {
   "cell_type": "code",
   "execution_count": 219,
   "id": "75693ace-952a-45d0-a638-d97c6e87e54e",
   "metadata": {},
   "outputs": [],
   "source": [
    "def terceiro_quartil(df, coluna):\n",
    "    terceiro_quartil = df[coluna].quantile(0.75)\n",
    "    print(f\"{coluna}: {terceiro_quartil}\")"
   ]
  },
  {
   "cell_type": "code",
   "execution_count": 222,
   "id": "0684cb1f-c4ff-42b0-8532-370fcce618e0",
   "metadata": {},
   "outputs": [
    {
     "name": "stdout",
     "output_type": "stream",
     "text": [
      "Linguagens: 571.6358759278\n",
      "Matemática: 592.9129628887\n"
     ]
    }
   ],
   "source": [
    "df_enem_terceiro_quartil = df_enem[[\"Linguagens\", \"Matemática\"]]\n",
    "    \n",
    "for coluna in df_enem_terceiro_quartil:\n",
    "    terceiro_quartil(df_enem_terceiro_quartil, coluna)"
   ]
  },
  {
   "cell_type": "markdown",
   "id": "4ace71bb-1d6c-42b6-9421-5c52a3f48097",
   "metadata": {},
   "source": [
    "### 6. Faça o histograma de Redação e Linguagens, de 20 em 20 pontos. Podemos dizer que são histogramas simétricos, justifique e classifique se não assimétricas?\n"
   ]
  },
  {
   "cell_type": "markdown",
   "id": "cf10bacc-d62b-457c-9580-d92ff0bed53f",
   "metadata": {},
   "source": [
    "##### Sim, os histogramas são simétricos, nota-se o formato de sino com a linha de densidade e a concentração dos dados com um pico ao redor da média e mediana"
   ]
  },
  {
   "cell_type": "code",
   "execution_count": 309,
   "id": "4b9266dd-7933-449b-9907-37cb82574b21",
   "metadata": {},
   "outputs": [
    {
     "data": {
      "image/png": "[encoded data removed]",
      "text/plain": [
       "<Figure size 640x480 with 1 Axes>"
      ]
     },
     "metadata": {},
     "output_type": "display_data"
    }
   ],
   "source": [
    "# Dados de exemplo (suponha que df_enem já tenha sido carregado)\n",
    "df_redacao_linguagens = df_enem[[\"Redação\", \"Linguagens\"]]\n",
    "\n",
    "# Plotar histograma para cada coluna com rótulos\n",
    "sns.histplot(df_redacao_linguagens[\"Redação\"], bins=20, kde=True, color='purple', label='Redação')\n",
    "sns.histplot(df_redacao_linguagens[\"Linguagens\"], bins=20, kde=True, color='#0000', label='Linguagens')\n",
    "\n",
    "\n",
    "# Adiciona rótulos e título\n",
    "plt.xlabel('Notas')\n",
    "plt.ylabel('Frequência')\n",
    "plt.title('Histograma: Redação e Linguagens')\n",
    "\n",
    "# Adiciona legenda\n",
    "plt.legend()\n",
    "\n",
    "plt.show()"
   ]
  },
  {
   "cell_type": "markdown",
   "id": "c7f34a5e-5bb7-4a6d-b7b2-2afc4f20a0fa",
   "metadata": {},
   "source": [
    "### 7. Agora coloque um range fixo de 0 até 1000, você ainda tem a mesma opinião quanto a simetria? [plt.hist(dado, bins=_, range=[0, 1000])"
   ]
  },
  {
   "cell_type": "markdown",
   "id": "d9f28665-e9cf-4a53-ac9c-0d43a3242e86",
   "metadata": {},
   "source": [
    "##### Sim pois se uma distribuição é verdadeiramente normal, ela manterá sua natureza normal independentemente de intervalos."
   ]
  },
  {
   "cell_type": "code",
   "execution_count": 121,
   "id": "51fe1106-648f-4b99-9db8-e13fffceda90",
   "metadata": {
    "tags": []
   },
   "outputs": [
    {
     "data": {
      "image/png": "[encoded data removed]",
      "text/plain": [
       "<Figure size 500x500 with 1 Axes>"
      ]
     },
     "metadata": {},
     "output_type": "display_data"
    },
    {
     "data": {
      "image/png": "[encoded data removed]",
      "text/plain": [
       "<Figure size 500x500 with 1 Axes>"
      ]
     },
     "metadata": {},
     "output_type": "display_data"
    }
   ],
   "source": [
    "for column in df_redacao_linguagens.columns:\n",
    "    plt.figure(figsize=(5,5))\n",
    "    sns.histplot(x=df_redacao_linguagens[column], bins=range(0, 1000), edgecolor='black', color='purple', kde=True) \n",
    "    # Adiciona rótulos e título\n",
    "    plt.xlabel('Notas')\n",
    "    plt.ylabel('Frequência')\n",
    "    plt.title(f'Histograma: {column}')\n",
    "    plt.show()\n"
   ]
  },
  {
   "cell_type": "markdown",
   "id": "159a3452-48e5-4909-8684-20ff030ecee6",
   "metadata": {},
   "source": [
    "### 8. Faça um boxplot do quartil de todas as disciplinas de ciências da natureza e redação. É possível enxergar outliers? Utilize o método IQR.\n"
   ]
  },
  {
   "cell_type": "markdown",
   "id": "746cfa37-f734-46c5-a802-844243f2420c",
   "metadata": {},
   "source": [
    "##### Sim é possível identificar outliers, porém não são dados inconsistentes e sim alunos que tiveram grandes desempenhos"
   ]
  },
  {
   "cell_type": "code",
   "execution_count": 310,
   "id": "d7640305-864f-4e20-8b1f-e96d172f5a31",
   "metadata": {},
   "outputs": [
    {
     "data": {
      "image/png": "[encoded data removed]",
      "text/plain": [
       "<Figure size 640x480 with 1 Axes>"
      ]
     },
     "metadata": {},
     "output_type": "display_data"
    }
   ],
   "source": [
    "df_ciencias_redacao = df_enem[[\"Ciências da natureza\", \"Redação\"]].dropna() # Utilizar dropna para não ocorrer divergência no boxplot\n",
    "\n",
    "# Criar o boxplot\n",
    "plt.boxplot(df_ciencias_redacao.values, labels=df_ciencias_redacao.columns)\n",
    "\n",
    "# Adicionar rótulos e título\n",
    "plt.xlabel('Disciplinas')\n",
    "plt.ylabel('Notas')\n",
    "plt.title('Boxplot dos Quartis de Ciências da Natureza e Redação')\n",
    "\n",
    "# Exibir o boxplot\n",
    "plt.show()"
   ]
  },
  {
   "cell_type": "code",
   "execution_count": 89,
   "id": "ca960a1c-e829-4762-98ec-4714671c45c5",
   "metadata": {},
   "outputs": [],
   "source": [
    "def calc_outlier(dataframe, column):\n",
    "    q1 = dataframe[column].quantile(0.25)\n",
    "    q3 = dataframe[column].quantile(0.75)\n",
    "    iqr = q3 - q1\n",
    "    lower = q1 - 1.5 * iqr\n",
    "    upper = q3 + 1.5 * iqr\n",
    "    \n",
    "    outliers = []\n",
    "    \n",
    "    for value in dataframe[column].values:\n",
    "        if ((value < lower) or (value > upper)):\n",
    "            outliers.append(value)\n",
    "    print(f'Coluna: {column} numero de outliers encontrados: ', len(outliers))   \n",
    "    "
   ]
  },
  {
   "cell_type": "code",
   "execution_count": 90,
   "id": "50fa1fe3-6689-4848-acba-2f25d8e1cf0b",
   "metadata": {},
   "outputs": [
    {
     "name": "stdout",
     "output_type": "stream",
     "text": [
      "Coluna: Ciências da natureza numero de outliers encontrados:  2\n",
      "Coluna: Redação numero de outliers encontrados:  3\n"
     ]
    }
   ],
   "source": [
    "for column in df_ciencias_redacao:\n",
    "    calc_outlier(df_ciencias_redacao,column)"
   ]
  },
  {
   "cell_type": "code",
   "execution_count": 66,
   "id": "e83d2b69-dcba-496d-81a6-a2656708e70a",
   "metadata": {},
   "outputs": [
    {
     "name": "stdout",
     "output_type": "stream",
     "text": [
      "Outliers:\n",
      "  Ciências da natureza    2\n",
      "Redação                 3\n",
      "dtype: int64\n"
     ]
    }
   ],
   "source": [
    "Q1 = df_ciencias_redacao.quantile(0.25)\n",
    "Q3 = df_ciencias_redacao.quantile(0.75)\n",
    "IQR = Q3 - Q1\n",
    "outliers = ((df_ciencias_redacao < (Q1 - 1.5 * IQR)) | (df_ciencias_redacao > (Q3 + 1.5 * IQR))).sum()\n",
    "print(\"Outliers:\\n \", outliers)"
   ]
  },
  {
   "cell_type": "markdown",
   "id": "f10fee30-7594-47bf-8544-c8e6a86d010d",
   "metadata": {},
   "source": [
    "### 9. Remova todos os outliers e verifique se eles são passíveis de alterar a média nacional significativamente? (considere significativamente um valor acima de 5%)"
   ]
  },
  {
   "cell_type": "code",
   "execution_count": 311,
   "id": "08c7cbc8-29ea-4804-919d-ab4684829553",
   "metadata": {},
   "outputs": [
    {
     "name": "stdout",
     "output_type": "stream",
     "text": [
      "Ciências da natureza: 501.82\n",
      "Redação: 637.91\n"
     ]
    }
   ],
   "source": [
    "# Média com os outliers \n",
    "\n",
    "df_ciencias_redacao_outliers = df_ciencias_redacao\n",
    "\n",
    "for column in df_ciencias_redacao_outliers.columns:\n",
    "    media = df_ciencias_redacao_outliers[column].mean()\n",
    "    print(f'{column}: {media:.2f}')"
   ]
  },
  {
   "cell_type": "code",
   "execution_count": 250,
   "id": "1c012f49-6d18-462c-ab3f-60b8f1a44cf8",
   "metadata": {},
   "outputs": [
    {
     "data": {
      "text/plain": [
       "Ciências da natureza    501.818493\n",
       "Redação                 637.914426\n",
       "dtype: float64"
      ]
     },
     "execution_count": 250,
     "metadata": {},
     "output_type": "execute_result"
    }
   ],
   "source": [
    "medias_com_outlier = df_ciencias_redacao_outliers.mean()\n",
    "medias_com_outlier"
   ]
  },
  {
   "cell_type": "code",
   "execution_count": 207,
   "id": "b703b1eb-7586-4651-bfc1-e3510bb14da1",
   "metadata": {},
   "outputs": [],
   "source": [
    "def outliers_nan(dataframe, column):\n",
    "    q1 = dataframe[column].quantile(0.25)\n",
    "    q3 = dataframe[column].quantile(0.75)\n",
    "    iqr = q3 - q1\n",
    "    lower = q1 - 1.5 * iqr\n",
    "    upper = q3 + 1.5 * iqr\n",
    "        \n",
    "    nan= []\n",
    "    for value in dataframe[column].values:\n",
    "        if ((value < lower) or (value > upper)):\n",
    "            nan.append(np.nan)\n",
    "            print(\"Outlier detectado: \",value)\n",
    "        else:\n",
    "            nan.append(value)\n",
    "        \n",
    "    return nan"
   ]
  },
  {
   "cell_type": "code",
   "execution_count": 251,
   "id": "d6095d16-26eb-449a-8795-59c41c9f47b1",
   "metadata": {},
   "outputs": [],
   "source": [
    "def fill_outlier(dataframe):\n",
    "    for column in dataframe.columns:\n",
    "        dataframe[column] = outliers_nan(dataframe, column)\n",
    "        \n",
    "    return dataframe.dropna()\n",
    "   "
   ]
  },
  {
   "cell_type": "code",
   "execution_count": 312,
   "id": "a347d169-b316-4379-b454-2121ddc65070",
   "metadata": {},
   "outputs": [
    {
     "name": "stdout",
     "output_type": "stream",
     "text": [
      "Outlier detectado:  802.0045683513\n",
      "Outlier detectado:  732.5029639878\n",
      "Outlier detectado:  290.3086081677\n",
      "Outlier detectado:  324.2225532562\n",
      "Outlier detectado:  981.0165529826\n"
     ]
    }
   ],
   "source": [
    "substituicao_outliers = df_ciencias_redacao.copy()\n",
    "\n",
    "substituicao_outliers = fill_outlier(substituicao_outliers)"
   ]
  },
  {
   "cell_type": "code",
   "execution_count": 253,
   "id": "94f1817f-b042-4181-b9de-853f98224c7a",
   "metadata": {},
   "outputs": [
    {
     "name": "stdout",
     "output_type": "stream",
     "text": [
      "Ciências da natureza: 500.82\n",
      "Redação: 638.17\n"
     ]
    }
   ],
   "source": [
    "# Médias sem outliers\n",
    "\n",
    "for column in substituicao_outliers.columns:\n",
    "    media = substituicao_outliers[column].mean()\n",
    "    print(f'{column}: {media:.2f}')"
   ]
  },
  {
   "cell_type": "code",
   "execution_count": 314,
   "id": "72cf80aa-2771-46a2-a16c-ad46164838c3",
   "metadata": {},
   "outputs": [
    {
     "data": {
      "text/plain": [
       "Ciências da natureza    500.821707\n",
       "Redação                 638.169482\n",
       "dtype: float64"
      ]
     },
     "execution_count": 314,
     "metadata": {},
     "output_type": "execute_result"
    }
   ],
   "source": [
    "medias_sem_outlier = substituicao_outliers.mean()\n",
    "medias_sem_outlier"
   ]
  },
  {
   "cell_type": "code",
   "execution_count": 315,
   "id": "f27b4e6d-fce0-49d4-8fd6-4b00b2bce847",
   "metadata": {},
   "outputs": [
    {
     "name": "stdout",
     "output_type": "stream",
     "text": [
      "percentuais:\n",
      " Ciências da natureza   -0.199030\n",
      "Redação                 0.039967\n",
      "dtype: float64\n"
     ]
    }
   ],
   "source": [
    "percentuais = (medias_sem_outlier - medias_com_outlier) / medias_sem_outlier * 100\n",
    "print(f\"percentuais:\\n {percentuais}\")"
   ]
  },
  {
   "cell_type": "markdown",
   "id": "16e39608-2d19-4369-8122-7170a8794e56",
   "metadata": {},
   "source": [
    "#### Resposta: Não houve aumentos ou diminuições significativas nas médias, os resultados apresentaram: \n",
    "\n",
    "* Queda de 0.19% da média para a disciplina de ciências da natureza com a remoção dos outliers\n",
    "* Aumento de 0.03% na média para a disciplina de redação com a remoção dos outliers"
   ]
  },
  {
   "cell_type": "markdown",
   "id": "d63f075b-02e6-475a-9a80-4079be56b99f",
   "metadata": {},
   "source": [
    "### 10. Considerando valores nulos, tente encontrar qual seria a melhor medida de tendência que pode substituir as notas nulas. Média, moda ou mediana? Substitua o valor por todos os três e diga qual delas altera menos a média geral e o desvio padrão."
   ]
  },
  {
   "cell_type": "code",
   "execution_count": 328,
   "id": "4f5e2574-dc4c-4fa3-879b-2130f142ff85",
   "metadata": {},
   "outputs": [
    {
     "data": {
      "text/plain": [
       "Linguagens              103\n",
       "Ciências humanas         64\n",
       "Ciências da natureza    176\n",
       "Matemática               76\n",
       "Redação                 140\n",
       "Sexo                      0\n",
       "dtype: int64"
      ]
     },
     "execution_count": 328,
     "metadata": {},
     "output_type": "execute_result"
    }
   ],
   "source": [
    "df_enem.isnull().sum()"
   ]
  },
  {
   "cell_type": "code",
   "execution_count": 317,
   "id": "96d3b498-094a-4e65-a229-0f012d235fee",
   "metadata": {},
   "outputs": [
    {
     "data": {
      "text/plain": [
       "Linguagens              514.524809\n",
       "Ciências humanas        527.042281\n",
       "Ciências da natureza    499.315583\n",
       "Matemática              535.965660\n",
       "Redação                 637.783532\n",
       "dtype: float64"
      ]
     },
     "execution_count": 317,
     "metadata": {},
     "output_type": "execute_result"
    }
   ],
   "source": [
    "df_enem.mean()"
   ]
  },
  {
   "cell_type": "code",
   "execution_count": 318,
   "id": "9171ee4b-dd40-4bae-ab21-631a93980db3",
   "metadata": {},
   "outputs": [
    {
     "data": {
      "text/plain": [
       "Linguagens               84.009313\n",
       "Ciências humanas         77.811519\n",
       "Ciências da natureza     78.760404\n",
       "Matemática               86.648100\n",
       "Redação                 115.339972\n",
       "dtype: float64"
      ]
     },
     "execution_count": 318,
     "metadata": {},
     "output_type": "execute_result"
    }
   ],
   "source": [
    "df_enem.std()"
   ]
  },
  {
   "cell_type": "code",
   "execution_count": 296,
   "id": "e3cb5e1f-b8e5-4c16-aeb6-3471f5bc9232",
   "metadata": {},
   "outputs": [],
   "source": [
    "# Média\n",
    "def fillna_mean(dataframe):\n",
    "    for column in dataframe.select_dtypes(include=np.number):\n",
    "        dataframe[column] = dataframe[column].fillna(dataframe[column].mean())\n",
    "    \n",
    "    dataframe_mean = dataframe.mean()\n",
    "    dataframe_std = dataframe.std()\n",
    "    return print(f\"Média:\\n{dataframe_mean}\\nDesvio padrão:\\n{dataframe_std}\")"
   ]
  },
  {
   "cell_type": "code",
   "execution_count": 323,
   "id": "a2948e36-e33f-45f8-bdcf-8568f3757cdc",
   "metadata": {},
   "outputs": [],
   "source": [
    "df_enem_nan_mean = df_enem.copy()"
   ]
  },
  {
   "cell_type": "code",
   "execution_count": 324,
   "id": "a8135f3f-9902-4234-a9d5-28f1e59ae81c",
   "metadata": {},
   "outputs": [
    {
     "name": "stdout",
     "output_type": "stream",
     "text": [
      "Média:\n",
      "Linguagens              514.524809\n",
      "Ciências humanas        527.042281\n",
      "Ciências da natureza    499.315583\n",
      "Matemática              535.965660\n",
      "Redação                 637.783532\n",
      "dtype: float64\n",
      "Desvio padrão:\n",
      "Linguagens               79.560718\n",
      "Ciências humanas         75.277806\n",
      "Ciências da natureza     71.486677\n",
      "Matemática               83.286987\n",
      "Redação                 106.953175\n",
      "dtype: float64\n"
     ]
    }
   ],
   "source": [
    "fillna_mean(df_enem_nan_mean)"
   ]
  },
  {
   "cell_type": "code",
   "execution_count": 298,
   "id": "e832361a-875d-4cd2-a466-161d0ac3df06",
   "metadata": {},
   "outputs": [],
   "source": [
    "# Mediana\n",
    "def fillna_median(dataframe):\n",
    "    for column in dataframe.select_dtypes(include=np.number):\n",
    "        dataframe[column] = dataframe[column].fillna(dataframe[column].median())\n",
    "    \n",
    "    dataframe_mean = dataframe.mean()\n",
    "    dataframe_std = dataframe.std()\n",
    "    return print(f\"Média:\\n{dataframe_mean}\\nDesvio padrão:\\n{dataframe_std}\")"
   ]
  },
  {
   "cell_type": "code",
   "execution_count": 326,
   "id": "c5620cc4-5342-4227-89de-bcce680b9330",
   "metadata": {},
   "outputs": [],
   "source": [
    "df_enem_nan_median = df_enem.copy()"
   ]
  },
  {
   "cell_type": "code",
   "execution_count": 327,
   "id": "46d0cbc9-f341-4daa-87cb-c3815ed3db03",
   "metadata": {},
   "outputs": [
    {
     "name": "stdout",
     "output_type": "stream",
     "text": [
      "Média:\n",
      "Linguagens              514.524809\n",
      "Ciências humanas        527.042281\n",
      "Ciências da natureza    499.315583\n",
      "Matemática              535.965660\n",
      "Redação                 637.783532\n",
      "dtype: float64\n",
      "Desvio padrão:\n",
      "Linguagens               79.560718\n",
      "Ciências humanas         75.277806\n",
      "Ciências da natureza     71.486677\n",
      "Matemática               83.286987\n",
      "Redação                 106.953175\n",
      "dtype: float64\n"
     ]
    }
   ],
   "source": [
    "fillna_mean(df_enem_nan_median)"
   ]
  },
  {
   "cell_type": "code",
   "execution_count": 331,
   "id": "62213bbf-83a9-4f28-816e-7a10dd60e0e6",
   "metadata": {},
   "outputs": [],
   "source": [
    "# Moda\n",
    "def fillna_mode(dataframe):\n",
    "    for column in dataframe.select_dtypes(include=np.number):\n",
    "        dataframe[column] = dataframe[column].fillna(dataframe[column].mode())\n",
    "    \n",
    "    dataframe_mean = dataframe.mean()\n",
    "    dataframe_std = dataframe.std()\n",
    "    return print(f\"Média:\\n{dataframe_mean}\\nDesvio padrão:\\n{dataframe_std}\")"
   ]
  },
  {
   "cell_type": "code",
   "execution_count": 330,
   "id": "318dd796-b9dd-46a3-8ad0-e88dddd05f7c",
   "metadata": {},
   "outputs": [],
   "source": [
    "df_enem_nan_mode = df_enem.copy()"
   ]
  },
  {
   "cell_type": "code",
   "execution_count": 332,
   "id": "15fe2333-8ba9-48e1-bac8-4718fe6e9754",
   "metadata": {},
   "outputs": [
    {
     "name": "stdout",
     "output_type": "stream",
     "text": [
      "Média:\n",
      "Linguagens              514.524809\n",
      "Ciências humanas        527.042281\n",
      "Ciências da natureza    499.315583\n",
      "Matemática              535.965660\n",
      "Redação                 637.815381\n",
      "dtype: float64\n",
      "Desvio padrão:\n",
      "Linguagens               84.009313\n",
      "Ciências humanas         77.811519\n",
      "Ciências da natureza     78.760404\n",
      "Matemática               86.648100\n",
      "Redação                 114.038611\n",
      "dtype: float64\n"
     ]
    }
   ],
   "source": [
    "fillna_mode(df_enem_nan_mode)"
   ]
  },
  {
   "cell_type": "markdown",
   "id": "d1d3a245-c10b-4279-95af-960b8ae59b7c",
   "metadata": {},
   "source": [
    "##### Resposta: Com base nos dados, é possível verificar que a substituição pela moda traz diferença mínima em relação as tendências da base original, sendo assim a ideal."
   ]
  },
  {
   "cell_type": "code",
   "execution_count": null,
   "id": "32b18ed2-abca-4dd7-9275-9165378e2e2d",
   "metadata": {},
   "outputs": [],
   "source": []
  }
 ],
 "metadata": {
  "kernelspec": {
   "display_name": "Python 3 (ipykernel)",
   "language": "python",
   "name": "python3"
  },
  "language_info": {
   "codemirror_mode": {
    "name": "ipython",
    "version": 3
   },
   "file_extension": ".py",
   "mimetype": "text/x-python",
   "name": "python",
   "nbconvert_exporter": "python",
   "pygments_lexer": "ipython3",
   "version": "3.9.18"
  }
 },
 "nbformat": 4,
 "nbformat_minor": 5
}
